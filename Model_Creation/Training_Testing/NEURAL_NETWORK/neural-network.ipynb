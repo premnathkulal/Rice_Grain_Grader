{
 "cells": [
  {
   "cell_type": "code",
   "execution_count": 1,
   "metadata": {},
   "outputs": [],
   "source": [
    "#https://hackernoon.com/build-your-first-neural-network-to-predict-house-prices-with-keras-3fb0839680f4\n",
    "import pandas as pd"
   ]
  },
  {
   "cell_type": "code",
   "execution_count": 2,
   "metadata": {},
   "outputs": [],
   "source": [
    "df = pd.read_csv('grain_features.csv')"
   ]
  },
  {
   "cell_type": "code",
   "execution_count": 3,
   "metadata": {},
   "outputs": [
    {
     "data": {
      "text/html": [
       "<div>\n",
       "<style scoped>\n",
       "    .dataframe tbody tr th:only-of-type {\n",
       "        vertical-align: middle;\n",
       "    }\n",
       "\n",
       "    .dataframe tbody tr th {\n",
       "        vertical-align: top;\n",
       "    }\n",
       "\n",
       "    .dataframe thead th {\n",
       "        text-align: right;\n",
       "    }\n",
       "</style>\n",
       "<table border=\"1\" class=\"dataframe\">\n",
       "  <thead>\n",
       "    <tr style=\"text-align: right;\">\n",
       "      <th></th>\n",
       "      <th>length</th>\n",
       "      <th>width</th>\n",
       "      <th>aspect_ratio</th>\n",
       "      <th>area</th>\n",
       "      <th>radius</th>\n",
       "      <th>perimeter</th>\n",
       "      <th>status</th>\n",
       "    </tr>\n",
       "  </thead>\n",
       "  <tbody>\n",
       "    <tr>\n",
       "      <td>27</td>\n",
       "      <td>95.555145</td>\n",
       "      <td>274.063232</td>\n",
       "      <td>0.348661</td>\n",
       "      <td>20023.5</td>\n",
       "      <td>133</td>\n",
       "      <td>665.369619</td>\n",
       "      <td>1</td>\n",
       "    </tr>\n",
       "    <tr>\n",
       "      <td>28</td>\n",
       "      <td>90.283600</td>\n",
       "      <td>206.732437</td>\n",
       "      <td>0.436717</td>\n",
       "      <td>14460.0</td>\n",
       "      <td>103</td>\n",
       "      <td>524.416301</td>\n",
       "      <td>1</td>\n",
       "    </tr>\n",
       "    <tr>\n",
       "      <td>29</td>\n",
       "      <td>92.078156</td>\n",
       "      <td>214.779526</td>\n",
       "      <td>0.428710</td>\n",
       "      <td>15293.5</td>\n",
       "      <td>106</td>\n",
       "      <td>541.404108</td>\n",
       "      <td>1</td>\n",
       "    </tr>\n",
       "    <tr>\n",
       "      <td>30</td>\n",
       "      <td>94.068237</td>\n",
       "      <td>251.685562</td>\n",
       "      <td>0.373753</td>\n",
       "      <td>18044.0</td>\n",
       "      <td>120</td>\n",
       "      <td>618.014280</td>\n",
       "      <td>1</td>\n",
       "    </tr>\n",
       "    <tr>\n",
       "      <td>31</td>\n",
       "      <td>104.542603</td>\n",
       "      <td>272.667999</td>\n",
       "      <td>0.383406</td>\n",
       "      <td>21145.5</td>\n",
       "      <td>135</td>\n",
       "      <td>656.575683</td>\n",
       "      <td>1</td>\n",
       "    </tr>\n",
       "  </tbody>\n",
       "</table>\n",
       "</div>"
      ],
      "text/plain": [
       "        length       width  aspect_ratio     area  radius   perimeter  status\n",
       "27   95.555145  274.063232      0.348661  20023.5     133  665.369619       1\n",
       "28   90.283600  206.732437      0.436717  14460.0     103  524.416301       1\n",
       "29   92.078156  214.779526      0.428710  15293.5     106  541.404108       1\n",
       "30   94.068237  251.685562      0.373753  18044.0     120  618.014280       1\n",
       "31  104.542603  272.667999      0.383406  21145.5     135  656.575683       1"
      ]
     },
     "execution_count": 3,
     "metadata": {},
     "output_type": "execute_result"
    }
   ],
   "source": [
    "df.tail()"
   ]
  },
  {
   "cell_type": "code",
   "execution_count": 4,
   "metadata": {},
   "outputs": [],
   "source": [
    "dataset = df.values"
   ]
  },
  {
   "cell_type": "code",
   "execution_count": 5,
   "metadata": {},
   "outputs": [],
   "source": [
    "X = dataset[:,0:6]"
   ]
  },
  {
   "cell_type": "code",
   "execution_count": 6,
   "metadata": {},
   "outputs": [],
   "source": [
    "Y = dataset[:,6]"
   ]
  },
  {
   "cell_type": "code",
   "execution_count": 7,
   "metadata": {},
   "outputs": [],
   "source": [
    "from sklearn import preprocessing"
   ]
  },
  {
   "cell_type": "code",
   "execution_count": 8,
   "metadata": {},
   "outputs": [],
   "source": [
    "#min_max_scaler = preprocessing.MinMaxScaler()\n",
    "#X_scale = min_max_scaler.fit_transform(X)"
   ]
  },
  {
   "cell_type": "code",
   "execution_count": 9,
   "metadata": {},
   "outputs": [],
   "source": [
    "from sklearn.model_selection import train_test_split"
   ]
  },
  {
   "cell_type": "code",
   "execution_count": 10,
   "metadata": {},
   "outputs": [],
   "source": [
    "X_train, X_val_and_test, Y_train, Y_val_and_test = train_test_split(X, Y, test_size=0.3)"
   ]
  },
  {
   "cell_type": "code",
   "execution_count": 11,
   "metadata": {},
   "outputs": [],
   "source": [
    "X_val, X_test, Y_val, Y_test = train_test_split(X_val_and_test, Y_val_and_test, test_size=0.5)"
   ]
  },
  {
   "cell_type": "code",
   "execution_count": 12,
   "metadata": {},
   "outputs": [],
   "source": [
    "#print(X_train.shape, X_val.shape, X_test.shape, Y_train.shape, Y_val.shape, Y_test.shape)"
   ]
  },
  {
   "cell_type": "code",
   "execution_count": 13,
   "metadata": {},
   "outputs": [
    {
     "name": "stderr",
     "output_type": "stream",
     "text": [
      "Using TensorFlow backend.\n"
     ]
    }
   ],
   "source": [
    "from keras.models import Sequential\n",
    "from keras.layers import Dense"
   ]
  },
  {
   "cell_type": "code",
   "execution_count": 14,
   "metadata": {},
   "outputs": [],
   "source": [
    "model = Sequential([\n",
    "    Dense(32, activation='relu', input_shape=(6,)),\n",
    "    Dense(32, activation='relu'),\n",
    "    Dense(1, activation='sigmoid'),\n",
    "])"
   ]
  },
  {
   "cell_type": "code",
   "execution_count": 15,
   "metadata": {},
   "outputs": [],
   "source": [
    "model.compile(optimizer='sgd',\n",
    "              loss='binary_crossentropy',\n",
    "              metrics=['accuracy'])"
   ]
  },
  {
   "cell_type": "code",
   "execution_count": 16,
   "metadata": {},
   "outputs": [
    {
     "name": "stdout",
     "output_type": "stream",
     "text": [
      "Train on 22 samples, validate on 5 samples\n",
      "Epoch 1/100\n",
      "22/22 [==============================] - 2s 84ms/step - loss: 1661.7527 - accuracy: 0.4545 - val_loss: 19167240.0000 - val_accuracy: 0.4000\n",
      "Epoch 2/100\n",
      "22/22 [==============================] - 0s 487us/step - loss: 18605390.0000 - accuracy: 0.5455 - val_loss: 0.6893 - val_accuracy: 0.6000\n",
      "Epoch 3/100\n",
      "22/22 [==============================] - 0s 501us/step - loss: 0.6952 - accuracy: 0.4545 - val_loss: 0.6933 - val_accuracy: 0.4000\n",
      "Epoch 4/100\n",
      "22/22 [==============================] - 0s 549us/step - loss: 0.6931 - accuracy: 0.5455 - val_loss: 0.6933 - val_accuracy: 0.4000\n",
      "Epoch 5/100\n",
      "22/22 [==============================] - 0s 556us/step - loss: 0.6931 - accuracy: 0.5455 - val_loss: 0.6934 - val_accuracy: 0.4000\n",
      "Epoch 6/100\n",
      "22/22 [==============================] - 0s 723us/step - loss: 0.6930 - accuracy: 0.5455 - val_loss: 0.6934 - val_accuracy: 0.4000\n",
      "Epoch 7/100\n",
      "22/22 [==============================] - 0s 342us/step - loss: 0.6930 - accuracy: 0.5455 - val_loss: 0.6935 - val_accuracy: 0.4000\n",
      "Epoch 8/100\n",
      "22/22 [==============================] - 0s 282us/step - loss: 0.6930 - accuracy: 0.5455 - val_loss: 0.6935 - val_accuracy: 0.4000\n",
      "Epoch 9/100\n",
      "22/22 [==============================] - 0s 177us/step - loss: 0.6930 - accuracy: 0.5455 - val_loss: 0.6936 - val_accuracy: 0.4000\n",
      "Epoch 10/100\n",
      "22/22 [==============================] - 0s 162us/step - loss: 0.6930 - accuracy: 0.5455 - val_loss: 0.6936 - val_accuracy: 0.4000\n",
      "Epoch 11/100\n",
      "22/22 [==============================] - 0s 172us/step - loss: 0.6929 - accuracy: 0.5455 - val_loss: 0.6937 - val_accuracy: 0.4000\n",
      "Epoch 12/100\n",
      "22/22 [==============================] - 0s 152us/step - loss: 0.6929 - accuracy: 0.5455 - val_loss: 0.6937 - val_accuracy: 0.4000\n",
      "Epoch 13/100\n",
      "22/22 [==============================] - 0s 177us/step - loss: 0.6929 - accuracy: 0.5455 - val_loss: 0.6937 - val_accuracy: 0.4000\n",
      "Epoch 14/100\n",
      "22/22 [==============================] - 0s 153us/step - loss: 0.6929 - accuracy: 0.5455 - val_loss: 0.6938 - val_accuracy: 0.4000\n",
      "Epoch 15/100\n",
      "22/22 [==============================] - 0s 178us/step - loss: 0.6929 - accuracy: 0.5455 - val_loss: 0.6938 - val_accuracy: 0.4000\n",
      "Epoch 16/100\n",
      "22/22 [==============================] - 0s 307us/step - loss: 0.6928 - accuracy: 0.5455 - val_loss: 0.6939 - val_accuracy: 0.4000\n",
      "Epoch 17/100\n",
      "22/22 [==============================] - 0s 539us/step - loss: 0.6928 - accuracy: 0.5455 - val_loss: 0.6939 - val_accuracy: 0.4000\n",
      "Epoch 18/100\n",
      "22/22 [==============================] - 0s 363us/step - loss: 0.6928 - accuracy: 0.5455 - val_loss: 0.6940 - val_accuracy: 0.4000\n",
      "Epoch 19/100\n",
      "22/22 [==============================] - 0s 435us/step - loss: 0.6928 - accuracy: 0.5455 - val_loss: 0.6940 - val_accuracy: 0.4000\n",
      "Epoch 20/100\n",
      "22/22 [==============================] - 0s 238us/step - loss: 0.6928 - accuracy: 0.5455 - val_loss: 0.6941 - val_accuracy: 0.4000\n",
      "Epoch 21/100\n",
      "22/22 [==============================] - 0s 532us/step - loss: 0.6927 - accuracy: 0.5455 - val_loss: 0.6941 - val_accuracy: 0.4000\n",
      "Epoch 22/100\n",
      "22/22 [==============================] - 0s 341us/step - loss: 0.6927 - accuracy: 0.5455 - val_loss: 0.6941 - val_accuracy: 0.4000\n",
      "Epoch 23/100\n",
      "22/22 [==============================] - 0s 351us/step - loss: 0.6927 - accuracy: 0.5455 - val_loss: 0.6942 - val_accuracy: 0.4000\n",
      "Epoch 24/100\n",
      "22/22 [==============================] - 0s 297us/step - loss: 0.6927 - accuracy: 0.5455 - val_loss: 0.6942 - val_accuracy: 0.4000\n",
      "Epoch 25/100\n",
      "22/22 [==============================] - 0s 259us/step - loss: 0.6927 - accuracy: 0.5455 - val_loss: 0.6943 - val_accuracy: 0.4000\n",
      "Epoch 26/100\n",
      "22/22 [==============================] - 0s 325us/step - loss: 0.6927 - accuracy: 0.5455 - val_loss: 0.6943 - val_accuracy: 0.4000\n",
      "Epoch 27/100\n",
      "22/22 [==============================] - 0s 405us/step - loss: 0.6926 - accuracy: 0.5455 - val_loss: 0.6944 - val_accuracy: 0.4000\n",
      "Epoch 28/100\n",
      "22/22 [==============================] - 0s 666us/step - loss: 0.6926 - accuracy: 0.5455 - val_loss: 0.6944 - val_accuracy: 0.4000\n",
      "Epoch 29/100\n",
      "22/22 [==============================] - 0s 313us/step - loss: 0.6926 - accuracy: 0.5455 - val_loss: 0.6945 - val_accuracy: 0.4000\n",
      "Epoch 30/100\n",
      "22/22 [==============================] - 0s 518us/step - loss: 0.6926 - accuracy: 0.5455 - val_loss: 0.6945 - val_accuracy: 0.4000\n",
      "Epoch 31/100\n",
      "22/22 [==============================] - 0s 258us/step - loss: 0.6926 - accuracy: 0.5455 - val_loss: 0.6945 - val_accuracy: 0.4000\n",
      "Epoch 32/100\n",
      "22/22 [==============================] - 0s 745us/step - loss: 0.6925 - accuracy: 0.5455 - val_loss: 0.6946 - val_accuracy: 0.4000\n",
      "Epoch 33/100\n",
      "22/22 [==============================] - 0s 259us/step - loss: 0.6925 - accuracy: 0.5455 - val_loss: 0.6946 - val_accuracy: 0.4000\n",
      "Epoch 34/100\n",
      "22/22 [==============================] - 0s 258us/step - loss: 0.6925 - accuracy: 0.5455 - val_loss: 0.6947 - val_accuracy: 0.4000\n",
      "Epoch 35/100\n",
      "22/22 [==============================] - 0s 214us/step - loss: 0.6925 - accuracy: 0.5455 - val_loss: 0.6947 - val_accuracy: 0.4000\n",
      "Epoch 36/100\n",
      "22/22 [==============================] - 0s 248us/step - loss: 0.6925 - accuracy: 0.5455 - val_loss: 0.6948 - val_accuracy: 0.4000\n",
      "Epoch 37/100\n",
      "22/22 [==============================] - 0s 407us/step - loss: 0.6925 - accuracy: 0.5455 - val_loss: 0.6948 - val_accuracy: 0.4000\n",
      "Epoch 38/100\n",
      "22/22 [==============================] - 0s 241us/step - loss: 0.6924 - accuracy: 0.5455 - val_loss: 0.6948 - val_accuracy: 0.4000\n",
      "Epoch 39/100\n",
      "22/22 [==============================] - 0s 233us/step - loss: 0.6924 - accuracy: 0.5455 - val_loss: 0.6949 - val_accuracy: 0.4000\n",
      "Epoch 40/100\n",
      "22/22 [==============================] - 0s 340us/step - loss: 0.6924 - accuracy: 0.5455 - val_loss: 0.6949 - val_accuracy: 0.4000\n",
      "Epoch 41/100\n",
      "22/22 [==============================] - 0s 302us/step - loss: 0.6924 - accuracy: 0.5455 - val_loss: 0.6950 - val_accuracy: 0.4000\n",
      "Epoch 42/100\n",
      "22/22 [==============================] - 0s 257us/step - loss: 0.6924 - accuracy: 0.5455 - val_loss: 0.6950 - val_accuracy: 0.4000\n",
      "Epoch 43/100\n",
      "22/22 [==============================] - 0s 446us/step - loss: 0.6924 - accuracy: 0.5455 - val_loss: 0.6951 - val_accuracy: 0.4000\n",
      "Epoch 44/100\n",
      "22/22 [==============================] - 0s 341us/step - loss: 0.6923 - accuracy: 0.5455 - val_loss: 0.6951 - val_accuracy: 0.4000\n",
      "Epoch 45/100\n",
      "22/22 [==============================] - 0s 252us/step - loss: 0.6923 - accuracy: 0.5455 - val_loss: 0.6951 - val_accuracy: 0.4000\n",
      "Epoch 46/100\n",
      "22/22 [==============================] - 0s 254us/step - loss: 0.6923 - accuracy: 0.5455 - val_loss: 0.6952 - val_accuracy: 0.4000\n",
      "Epoch 47/100\n",
      "22/22 [==============================] - 0s 253us/step - loss: 0.6923 - accuracy: 0.5455 - val_loss: 0.6952 - val_accuracy: 0.4000\n",
      "Epoch 48/100\n",
      "22/22 [==============================] - 0s 250us/step - loss: 0.6923 - accuracy: 0.5455 - val_loss: 0.6953 - val_accuracy: 0.4000\n",
      "Epoch 49/100\n",
      "22/22 [==============================] - 0s 284us/step - loss: 0.6923 - accuracy: 0.5455 - val_loss: 0.6953 - val_accuracy: 0.4000\n",
      "Epoch 50/100\n",
      "22/22 [==============================] - 0s 243us/step - loss: 0.6922 - accuracy: 0.5455 - val_loss: 0.6954 - val_accuracy: 0.4000\n",
      "Epoch 51/100\n",
      "22/22 [==============================] - 0s 378us/step - loss: 0.6922 - accuracy: 0.5455 - val_loss: 0.6954 - val_accuracy: 0.4000\n",
      "Epoch 52/100\n",
      "22/22 [==============================] - 0s 327us/step - loss: 0.6922 - accuracy: 0.5455 - val_loss: 0.6954 - val_accuracy: 0.4000\n",
      "Epoch 53/100\n",
      "22/22 [==============================] - 0s 306us/step - loss: 0.6922 - accuracy: 0.5455 - val_loss: 0.6955 - val_accuracy: 0.4000\n",
      "Epoch 54/100\n",
      "22/22 [==============================] - 0s 229us/step - loss: 0.6922 - accuracy: 0.5455 - val_loss: 0.6955 - val_accuracy: 0.4000\n",
      "Epoch 55/100\n",
      "22/22 [==============================] - 0s 581us/step - loss: 0.6922 - accuracy: 0.5455 - val_loss: 0.6956 - val_accuracy: 0.4000\n",
      "Epoch 56/100\n",
      "22/22 [==============================] - 0s 251us/step - loss: 0.6921 - accuracy: 0.5455 - val_loss: 0.6956 - val_accuracy: 0.4000\n",
      "Epoch 57/100\n",
      "22/22 [==============================] - 0s 180us/step - loss: 0.6921 - accuracy: 0.5455 - val_loss: 0.6956 - val_accuracy: 0.4000\n"
     ]
    },
    {
     "name": "stdout",
     "output_type": "stream",
     "text": [
      "Epoch 58/100\n",
      "22/22 [==============================] - 0s 252us/step - loss: 0.6921 - accuracy: 0.5455 - val_loss: 0.6957 - val_accuracy: 0.4000\n",
      "Epoch 59/100\n",
      "22/22 [==============================] - 0s 261us/step - loss: 0.6921 - accuracy: 0.5455 - val_loss: 0.6957 - val_accuracy: 0.4000\n",
      "Epoch 60/100\n",
      "22/22 [==============================] - 0s 572us/step - loss: 0.6921 - accuracy: 0.5455 - val_loss: 0.6958 - val_accuracy: 0.4000\n",
      "Epoch 61/100\n",
      "22/22 [==============================] - 0s 422us/step - loss: 0.6921 - accuracy: 0.5455 - val_loss: 0.6958 - val_accuracy: 0.4000\n",
      "Epoch 62/100\n",
      "22/22 [==============================] - 0s 325us/step - loss: 0.6921 - accuracy: 0.5455 - val_loss: 0.6959 - val_accuracy: 0.4000\n",
      "Epoch 63/100\n",
      "22/22 [==============================] - 0s 302us/step - loss: 0.6920 - accuracy: 0.5455 - val_loss: 0.6959 - val_accuracy: 0.4000\n",
      "Epoch 64/100\n",
      "22/22 [==============================] - 0s 581us/step - loss: 0.6920 - accuracy: 0.5455 - val_loss: 0.6959 - val_accuracy: 0.4000\n",
      "Epoch 65/100\n",
      "22/22 [==============================] - 0s 220us/step - loss: 0.6920 - accuracy: 0.5455 - val_loss: 0.6960 - val_accuracy: 0.4000\n",
      "Epoch 66/100\n",
      "22/22 [==============================] - 0s 286us/step - loss: 0.6920 - accuracy: 0.5455 - val_loss: 0.6960 - val_accuracy: 0.4000\n",
      "Epoch 67/100\n",
      "22/22 [==============================] - 0s 555us/step - loss: 0.6920 - accuracy: 0.5455 - val_loss: 0.6961 - val_accuracy: 0.4000\n",
      "Epoch 68/100\n",
      "22/22 [==============================] - 0s 250us/step - loss: 0.6920 - accuracy: 0.5455 - val_loss: 0.6961 - val_accuracy: 0.4000\n",
      "Epoch 69/100\n",
      "22/22 [==============================] - 0s 380us/step - loss: 0.6920 - accuracy: 0.5455 - val_loss: 0.6961 - val_accuracy: 0.4000\n",
      "Epoch 70/100\n",
      "22/22 [==============================] - 0s 801us/step - loss: 0.6919 - accuracy: 0.5455 - val_loss: 0.6962 - val_accuracy: 0.4000\n",
      "Epoch 71/100\n",
      "22/22 [==============================] - 0s 325us/step - loss: 0.6919 - accuracy: 0.5455 - val_loss: 0.6962 - val_accuracy: 0.4000\n",
      "Epoch 72/100\n",
      "22/22 [==============================] - 0s 727us/step - loss: 0.6919 - accuracy: 0.5455 - val_loss: 0.6963 - val_accuracy: 0.4000\n",
      "Epoch 73/100\n",
      "22/22 [==============================] - 0s 275us/step - loss: 0.6919 - accuracy: 0.5455 - val_loss: 0.6963 - val_accuracy: 0.4000\n",
      "Epoch 74/100\n",
      "22/22 [==============================] - 0s 168us/step - loss: 0.6919 - accuracy: 0.5455 - val_loss: 0.6963 - val_accuracy: 0.4000\n",
      "Epoch 75/100\n",
      "22/22 [==============================] - 0s 460us/step - loss: 0.6919 - accuracy: 0.5455 - val_loss: 0.6964 - val_accuracy: 0.4000\n",
      "Epoch 76/100\n",
      "22/22 [==============================] - 0s 283us/step - loss: 0.6919 - accuracy: 0.5455 - val_loss: 0.6964 - val_accuracy: 0.4000\n",
      "Epoch 77/100\n",
      "22/22 [==============================] - 0s 476us/step - loss: 0.6918 - accuracy: 0.5455 - val_loss: 0.6965 - val_accuracy: 0.4000\n",
      "Epoch 78/100\n",
      "22/22 [==============================] - 0s 548us/step - loss: 0.6918 - accuracy: 0.5455 - val_loss: 0.6965 - val_accuracy: 0.4000\n",
      "Epoch 79/100\n",
      "22/22 [==============================] - 0s 346us/step - loss: 0.6918 - accuracy: 0.5455 - val_loss: 0.6966 - val_accuracy: 0.4000\n",
      "Epoch 80/100\n",
      "22/22 [==============================] - 0s 288us/step - loss: 0.6918 - accuracy: 0.5455 - val_loss: 0.6966 - val_accuracy: 0.4000\n",
      "Epoch 81/100\n",
      "22/22 [==============================] - 0s 336us/step - loss: 0.6918 - accuracy: 0.5455 - val_loss: 0.6966 - val_accuracy: 0.4000\n",
      "Epoch 82/100\n",
      "22/22 [==============================] - 0s 329us/step - loss: 0.6918 - accuracy: 0.5455 - val_loss: 0.6967 - val_accuracy: 0.4000\n",
      "Epoch 83/100\n",
      "22/22 [==============================] - 0s 597us/step - loss: 0.6918 - accuracy: 0.5455 - val_loss: 0.6967 - val_accuracy: 0.4000\n",
      "Epoch 84/100\n",
      "22/22 [==============================] - 0s 493us/step - loss: 0.6917 - accuracy: 0.5455 - val_loss: 0.6968 - val_accuracy: 0.4000\n",
      "Epoch 85/100\n",
      "22/22 [==============================] - 0s 243us/step - loss: 0.6917 - accuracy: 0.5455 - val_loss: 0.6968 - val_accuracy: 0.4000\n",
      "Epoch 86/100\n",
      "22/22 [==============================] - 0s 412us/step - loss: 0.6917 - accuracy: 0.5455 - val_loss: 0.6968 - val_accuracy: 0.4000\n",
      "Epoch 87/100\n",
      "22/22 [==============================] - 0s 310us/step - loss: 0.6917 - accuracy: 0.5455 - val_loss: 0.6969 - val_accuracy: 0.4000\n",
      "Epoch 88/100\n",
      "22/22 [==============================] - 0s 241us/step - loss: 0.6917 - accuracy: 0.5455 - val_loss: 0.6969 - val_accuracy: 0.4000\n",
      "Epoch 89/100\n",
      "22/22 [==============================] - 0s 184us/step - loss: 0.6917 - accuracy: 0.5455 - val_loss: 0.6970 - val_accuracy: 0.4000\n",
      "Epoch 90/100\n",
      "22/22 [==============================] - 0s 451us/step - loss: 0.6917 - accuracy: 0.5455 - val_loss: 0.6970 - val_accuracy: 0.4000\n",
      "Epoch 91/100\n",
      "22/22 [==============================] - 0s 227us/step - loss: 0.6916 - accuracy: 0.5455 - val_loss: 0.6970 - val_accuracy: 0.4000\n",
      "Epoch 92/100\n",
      "22/22 [==============================] - 0s 327us/step - loss: 0.6916 - accuracy: 0.5455 - val_loss: 0.6971 - val_accuracy: 0.4000\n",
      "Epoch 93/100\n",
      "22/22 [==============================] - 0s 183us/step - loss: 0.6916 - accuracy: 0.5455 - val_loss: 0.6971 - val_accuracy: 0.4000\n",
      "Epoch 94/100\n",
      "22/22 [==============================] - 0s 408us/step - loss: 0.6916 - accuracy: 0.5455 - val_loss: 0.6972 - val_accuracy: 0.4000\n",
      "Epoch 95/100\n",
      "22/22 [==============================] - 0s 803us/step - loss: 0.6916 - accuracy: 0.5455 - val_loss: 0.6972 - val_accuracy: 0.4000\n",
      "Epoch 96/100\n",
      "22/22 [==============================] - 0s 390us/step - loss: 0.6916 - accuracy: 0.5455 - val_loss: 0.6972 - val_accuracy: 0.4000\n",
      "Epoch 97/100\n",
      "22/22 [==============================] - 0s 494us/step - loss: 0.6916 - accuracy: 0.5455 - val_loss: 0.6973 - val_accuracy: 0.4000\n",
      "Epoch 98/100\n",
      "22/22 [==============================] - 0s 295us/step - loss: 0.6916 - accuracy: 0.5455 - val_loss: 0.6973 - val_accuracy: 0.4000\n",
      "Epoch 99/100\n",
      "22/22 [==============================] - 0s 556us/step - loss: 0.6915 - accuracy: 0.5455 - val_loss: 0.6973 - val_accuracy: 0.4000\n",
      "Epoch 100/100\n",
      "22/22 [==============================] - 0s 444us/step - loss: 0.6915 - accuracy: 0.5455 - val_loss: 0.6974 - val_accuracy: 0.4000\n"
     ]
    }
   ],
   "source": [
    "hist = model.fit(X_train, Y_train, batch_size=32, epochs=100, validation_data=(X_val, Y_val))"
   ]
  },
  {
   "cell_type": "code",
   "execution_count": 17,
   "metadata": {},
   "outputs": [
    {
     "name": "stdout",
     "output_type": "stream",
     "text": [
      "\r",
      "5/5 [==============================] - 0s 264us/step\n"
     ]
    },
    {
     "data": {
      "text/plain": [
       "0.6893161535263062"
      ]
     },
     "execution_count": 17,
     "metadata": {},
     "output_type": "execute_result"
    }
   ],
   "source": [
    "model.evaluate(X_test, Y_test)[0]\n",
    "#X_test"
   ]
  },
  {
   "cell_type": "code",
   "execution_count": 18,
   "metadata": {},
   "outputs": [],
   "source": [
    "model.save('model.h5')"
   ]
  },
  {
   "cell_type": "code",
   "execution_count": 19,
   "metadata": {},
   "outputs": [],
   "source": [
    "from keras.models import load_model\n",
    "model_=load_model('model.h5')"
   ]
  },
  {
   "cell_type": "code",
   "execution_count": 20,
   "metadata": {},
   "outputs": [],
   "source": [
    "#X_test"
   ]
  },
  {
   "cell_type": "code",
   "execution_count": null,
   "metadata": {},
   "outputs": [],
   "source": []
  },
  {
   "cell_type": "code",
   "execution_count": 21,
   "metadata": {},
   "outputs": [],
   "source": [
    "a = [97.347275,150.573532,0.646510,11083.5,73,426.291411]\n",
    "prediction = model_.predict_classes([[a]])"
   ]
  },
  {
   "cell_type": "code",
   "execution_count": 22,
   "metadata": {},
   "outputs": [
    {
     "name": "stdout",
     "output_type": "stream",
     "text": [
      "[[1]]\n"
     ]
    }
   ],
   "source": [
    "print(prediction)"
   ]
  },
  {
   "cell_type": "code",
   "execution_count": null,
   "metadata": {},
   "outputs": [],
   "source": []
  },
  {
   "cell_type": "code",
   "execution_count": null,
   "metadata": {},
   "outputs": [],
   "source": []
  },
  {
   "cell_type": "code",
   "execution_count": null,
   "metadata": {},
   "outputs": [],
   "source": []
  }
 ],
 "metadata": {
  "kernelspec": {
   "display_name": "Python 3",
   "language": "python",
   "name": "python3"
  },
  "language_info": {
   "codemirror_mode": {
    "name": "ipython",
    "version": 3
   },
   "file_extension": ".py",
   "mimetype": "text/x-python",
   "name": "python",
   "nbconvert_exporter": "python",
   "pygments_lexer": "ipython3",
   "version": "3.6.9"
  }
 },
 "nbformat": 4,
 "nbformat_minor": 2
}
